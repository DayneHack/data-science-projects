{
  "nbformat": 4,
  "nbformat_minor": 0,
  "metadata": {
    "colab": {
      "provenance": [],
      "collapsed_sections": []
    },
    "kernelspec": {
      "name": "python3",
      "display_name": "Python 3"
    }
  },
  "cells": [
    {
      "cell_type": "markdown",
      "source": [
        "#Import Libraries and datasets"
      ],
      "metadata": {
        "id": "J0ERA4g40tLg"
      }
    },
    {
      "cell_type": "code",
      "source": [
        "import pandas as pd\n",
        "pd.options.mode.chained_assignment = None\n",
        "import numpy as np"
      ],
      "metadata": {
        "id": "iRhVtb-txhqa"
      },
      "execution_count": 38,
      "outputs": []
    },
    {
      "cell_type": "code",
      "source": [
        "import warnings\n",
        "warnings.filterwarnings('ignore')"
      ],
      "metadata": {
        "id": "Y-OiGgr3s4Aq"
      },
      "execution_count": 39,
      "outputs": []
    },
    {
      "cell_type": "code",
      "source": [
        "from google.colab import drive\n",
        "drive.mount('/content/drive')"
      ],
      "metadata": {
        "id": "hcaCdeesxA4L",
        "colab": {
          "base_uri": "https://localhost:8080/"
        },
        "outputId": "81d9f202-2dee-4b7d-988f-869095723039"
      },
      "execution_count": 40,
      "outputs": [
        {
          "output_type": "stream",
          "name": "stdout",
          "text": [
            "Drive already mounted at /content/drive; to attempt to forcibly remount, call drive.mount(\"/content/drive\", force_remount=True).\n"
          ]
        }
      ]
    },
    {
      "cell_type": "code",
      "metadata": {
        "id": "wjujPWgLIm-5"
      },
      "source": [
        "data_dir = \"CMPT459\" # The name of the directory you saved your data in\n",
        "BASE_URL = f'./drive/My Drive/{data_dir}'\n",
        "\n",
        "train_data_filename = 'cases_2021_train_processed_2.csv' # your processed filename\n",
        "train_data_path = f'{BASE_URL}/{train_data_filename}'\n",
        "cases_data_filename = 'cases_2021_test_processed_unlabelled_2.csv' # your processed filename\n",
        "cases_data_path = f'{BASE_URL}/{cases_data_filename}'\n",
        "\n",
        "train_data = pd.read_csv(train_data_path)\n",
        "cases_data = pd.read_csv(cases_data_path)"
      ],
      "execution_count": 41,
      "outputs": []
    },
    {
      "cell_type": "markdown",
      "source": [
        "#Feature Selection<br><br>\n",
        "  train_data features: age, sex, country, chronic_disease_binary, Confirmed, Deaths, Recovered, Active, Incident_Rate, Case_Fatality_Ratio, outcome_group<br><br>\n",
        "  case_data features: age, sex, country, chronic_disease_binary, Confirmed, Deaths, Recovered, Active, Incident_rate, Case_Fatality_Ratio"
      ],
      "metadata": {
        "id": "etRsDblJPhpW"
      }
    },
    {
      "cell_type": "code",
      "source": [
        "train_data.drop('province', inplace=True, axis=1)\n",
        "train_data.drop('latitude', inplace=True, axis=1)\n",
        "train_data.drop('longitude', inplace=True, axis=1)\n",
        "train_data.drop('date_confirmation', inplace=True, axis=1)\n",
        "\n",
        "cases_data.drop('province', inplace=True, axis=1)\n",
        "cases_data.drop('latitude', inplace=True, axis=1)\n",
        "cases_data.drop('longitude', inplace=True, axis=1)\n",
        "cases_data.drop('date_confirmation', inplace=True, axis=1)"
      ],
      "metadata": {
        "id": "UrMXgR1Z0paD"
      },
      "execution_count": 42,
      "outputs": []
    },
    {
      "cell_type": "markdown",
      "source": [
        "#Mapping the features"
      ],
      "metadata": {
        "id": "yTTPW8D1VXZ9"
      }
    },
    {
      "cell_type": "code",
      "source": [
        "sex_map = {\n",
        "    'male': 0,\n",
        "    'female': 1\n",
        "}\n",
        "\n",
        "country_map_train = {\n",
        "    'Algeria': 0,\n",
        "    'Australia': 1,\n",
        "    'Brazil': 2,\n",
        "    'Cabo verde': 3,\n",
        "    'China': 4,\n",
        "    'Eswatini': 5,\n",
        "    'Ethiopia': 6,\n",
        "    'France': 7,\n",
        "    'Gabon': 8,\n",
        "    'Gambia': 9,\n",
        "    'Ghana': 10,\n",
        "    'India': 11,\n",
        "    'Italy': 12,\n",
        "    'Malaysia': 13,\n",
        "    'Mozambique': 14,\n",
        "    'Niger': 15,\n",
        "    'Philippines': 16,\n",
        "    'Singapore': 17,\n",
        "    'South Korea': 18,\n",
        "    'Vietnam': 19,\n",
        "    'Zimbabwe': 20,\n",
        "    #Switzerland is 21\n",
        "    'Angola': 22,\n",
        "    'Bahamas': 23,\n",
        "    'Burkina Faso': 24,\n",
        "    'Cameroon': 25,\n",
        "    'Canada': 26,\n",
        "    'Central African Republic': 27,\n",
        "    'Cuba': 28,\n",
        "    'Germany': 29,\n",
        "    'Guinea': 30,\n",
        "    'Guyana': 31,\n",
        "    'Nepal': 32,\n",
        "    'Romania': 33,\n",
        "    'San Marino': 34,\n",
        "    'Sudan': 35,\n",
        "    'Taiwan': 36,\n",
        "    'Tanzania': 37,\n",
        "    'Togo': 38,\n",
        "}\n",
        "\n",
        "country_map_test = {\n",
        "    'Algeria': 0,\n",
        "    'Australia': 1,\n",
        "    'Brazil': 2,\n",
        "    'Cabo verde': 3,\n",
        "    'China': 4,\n",
        "    'Eswatini': 5,\n",
        "    'Ethiopia': 6,\n",
        "    'France': 7,\n",
        "    'Gabon': 8,\n",
        "    'Gambia': 9,\n",
        "    'Ghana': 10,\n",
        "    'India': 11,\n",
        "    'Italy': 12,\n",
        "    'Malaysia': 13,\n",
        "    'Mozambique': 14,\n",
        "    'Niger': 15,\n",
        "    'Philippines': 16,\n",
        "    'Singapore': 17,\n",
        "    'South Korea': 18,\n",
        "    #19 is Vietnam\n",
        "    #20 is Zimbabwe\n",
        "    'Switzerland': 21\n",
        "}\n",
        "\n",
        "chronic_disease_binary_map = {\n",
        "    'FALSE': 0,\n",
        "    'TRUE': 1\n",
        "}\n",
        "\n",
        "outcome_group_map = {\n",
        "    'deceased': 0,\n",
        "    'hospitalized': 1,\n",
        "    'nonhospitalized': 2\n",
        "}"
      ],
      "metadata": {
        "id": "c92zpemYVboJ"
      },
      "execution_count": 43,
      "outputs": []
    },
    {
      "cell_type": "code",
      "source": [
        "train_data['sex'] = train_data['sex'].map(sex_map).fillna(0)\n",
        "cases_data['sex'] = cases_data['sex'].map(sex_map).fillna(0)\n",
        "\n",
        "train_data['country'] = train_data['country'].map(country_map_train).fillna(39)    #39 = unknown\n",
        "cases_data['country'] = cases_data['country'].map(country_map_test).fillna(39)     #39 = unknown\n",
        "\n",
        "train_data['chronic_disease_binary'] = train_data['chronic_disease_binary'].map(chronic_disease_binary_map).fillna(0)\n",
        "cases_data['chronic_disease_binary'] = cases_data['chronic_disease_binary'].map(chronic_disease_binary_map).fillna(0)\n",
        "\n",
        "train_data['outcome_group'] = train_data['outcome_group'].map(outcome_group_map).fillna(0)\n",
        "\n"
      ],
      "metadata": {
        "id": "bDYr8O2oVzq6"
      },
      "execution_count": 44,
      "outputs": []
    },
    {
      "cell_type": "markdown",
      "source": [
        "#Balancing the classes in the training dataset"
      ],
      "metadata": {
        "id": "kleR-rVp2EOs"
      }
    },
    {
      "cell_type": "code",
      "source": [
        "train_data['outcome_group'].value_counts()"
      ],
      "metadata": {
        "colab": {
          "base_uri": "https://localhost:8080/"
        },
        "id": "8OhJ5uET2FEK",
        "outputId": "c95916ef-ca38-4a68-ff83-cc76b5cdede3"
      },
      "execution_count": 45,
      "outputs": [
        {
          "output_type": "execute_result",
          "data": {
            "text/plain": [
              "1    13241\n",
              "2     2974\n",
              "0      997\n",
              "Name: outcome_group, dtype: int64"
            ]
          },
          "metadata": {},
          "execution_count": 45
        }
      ]
    },
    {
      "cell_type": "code",
      "source": [
        "from imblearn.over_sampling import SMOTE\n",
        "\n",
        "#overbalancing data\n",
        "#reference: https://towardsdatascience.com/having-an-imbalanced-dataset-here-is-how-you-can-solve-it-1640568947eb\n",
        "\n",
        "sm = SMOTE(sampling_strategy='auto', random_state=73)\n",
        "\n",
        "train_data_X, train_data_Y = sm.fit_resample(train_data.drop('outcome_group', axis=1), train_data['outcome_group'])\n",
        "\n",
        "train_data_oversample = pd.concat([pd.DataFrame(train_data_Y), pd.DataFrame(train_data_X)], axis=1)\n",
        "\n",
        "train_data_oversample['outcome_group'].value_counts()\n",
        "\n",
        "\n"
      ],
      "metadata": {
        "colab": {
          "base_uri": "https://localhost:8080/"
        },
        "id": "6rRlHIYW3oNW",
        "outputId": "8662f60e-7553-4608-9bfa-253d05c7ff5b"
      },
      "execution_count": 46,
      "outputs": [
        {
          "output_type": "execute_result",
          "data": {
            "text/plain": [
              "1    13241\n",
              "2    13241\n",
              "0    13241\n",
              "Name: outcome_group, dtype: int64"
            ]
          },
          "metadata": {},
          "execution_count": 46
        }
      ]
    },
    {
      "cell_type": "markdown",
      "source": [
        "#Building models and hyperparameter tuning (random forest)\n"
      ],
      "metadata": {
        "id": "zafEhmhFc8eT"
      }
    },
    {
      "cell_type": "markdown",
      "source": [
        "Random forest:"
      ],
      "metadata": {
        "id": "UBv7XrX8dAZo"
      }
    },
    {
      "cell_type": "code",
      "source": [
        "from sklearn.model_selection import train_test_split\n",
        "\n",
        "#reference: https://www.datacamp.com/community/tutorials/random-forests-classifier-python\n",
        "\n",
        "features = train_data_oversample[['age', 'sex', 'country', 'chronic_disease_binary', 'Confirmed', 'Deaths', 'Recovered', 'Active', 'Incident_Rate', 'Case_Fatality_Ratio']]\n",
        "labels = train_data_oversample['outcome_group']\n",
        "\n",
        "X_train, X_test, Y_train, Y_test = train_test_split(features, labels, test_size=0.2)"
      ],
      "metadata": {
        "id": "Yas3i48Gc_TR"
      },
      "execution_count": 47,
      "outputs": []
    },
    {
      "cell_type": "code",
      "source": [
        "from sklearn.ensemble import RandomForestClassifier\n",
        "\n",
        "classifier = RandomForestClassifier(n_estimators=300, random_state=73, max_depth=30)\n",
        "\n",
        "classifier.fit(X_train, Y_train)\n",
        "\n",
        "predict = classifier.predict(X_test)"
      ],
      "metadata": {
        "id": "yc0JGfSyfcw2"
      },
      "execution_count": 48,
      "outputs": []
    },
    {
      "cell_type": "code",
      "source": [
        "from sklearn import metrics\n",
        "\n",
        "print('Accuracy of Validation Set:', metrics.accuracy_score(Y_test, predict))"
      ],
      "metadata": {
        "colab": {
          "base_uri": "https://localhost:8080/"
        },
        "id": "4fARTUSngXXp",
        "outputId": "2f7fe1aa-f3b3-4879-9a7b-af66ec681605"
      },
      "execution_count": 49,
      "outputs": [
        {
          "output_type": "stream",
          "name": "stdout",
          "text": [
            "Accuracy of Validation Set: 0.813215859030837\n"
          ]
        }
      ]
    },
    {
      "cell_type": "markdown",
      "source": [
        "K-fold cross-validation: (random forest)"
      ],
      "metadata": {
        "id": "5IwCKmv-kAlM"
      }
    },
    {
      "cell_type": "code",
      "source": [
        "from sklearn.model_selection import KFold, cross_val_score\n",
        "from sklearn.metrics import make_scorer, f1_score\n",
        "\n",
        "#reference: https://stackabuse.com/cross-validation-and-grid-search-for-model-selection-in-python/\n",
        "\n",
        "kfold = KFold(n_splits=5, shuffle=True, random_state=73)\n",
        "f1 = make_scorer(f1_score, average='macro')\n",
        "\n",
        "accuracies = cross_val_score(estimator=classifier, X=X_train, y=Y_train, scoring=f1, cv=5)     #k\n",
        "\n",
        "print('mean f1 score:', accuracies.mean())"
      ],
      "metadata": {
        "id": "H3f8errRiibw",
        "colab": {
          "base_uri": "https://localhost:8080/"
        },
        "outputId": "8579100f-1902-4c8f-f5b3-77f6ca20cda5"
      },
      "execution_count": 50,
      "outputs": [
        {
          "output_type": "stream",
          "name": "stdout",
          "text": [
            "mean f1 score: 0.8179276684872546\n"
          ]
        }
      ]
    },
    {
      "cell_type": "code",
      "source": [
        "from sklearn.model_selection import GridSearchCV\n",
        "\n",
        "params = {\n",
        "    'max_depth': [5, 10, 20],\n",
        "    'min_samples_leaf': [20, 50],\n",
        "    #'criterion': [\"gini\", \"entropy\"]\n",
        "}\n",
        "\n",
        "grid_search = GridSearchCV(estimator=classifier, \n",
        "                           param_grid=params, \n",
        "                           cv=5, n_jobs=-1, verbose=1, scoring = \"f1\")\n",
        "#%time\n",
        "grid_search.fit(X_train, Y_train)"
      ],
      "metadata": {
        "colab": {
          "base_uri": "https://localhost:8080/"
        },
        "id": "Aq7SMTSBWqfe",
        "outputId": "691efdb5-9a69-4808-b70f-c0ff079b4195"
      },
      "execution_count": 51,
      "outputs": [
        {
          "output_type": "stream",
          "name": "stdout",
          "text": [
            "Fitting 5 folds for each of 6 candidates, totalling 30 fits\n"
          ]
        },
        {
          "output_type": "execute_result",
          "data": {
            "text/plain": [
              "GridSearchCV(cv=5,\n",
              "             estimator=RandomForestClassifier(max_depth=30, n_estimators=300,\n",
              "                                              random_state=73),\n",
              "             n_jobs=-1,\n",
              "             param_grid={'max_depth': [5, 10, 20],\n",
              "                         'min_samples_leaf': [20, 50]},\n",
              "             scoring='f1', verbose=1)"
            ]
          },
          "metadata": {},
          "execution_count": 51
        }
      ]
    },
    {
      "cell_type": "code",
      "source": [
        "grid_search.best_estimator_"
      ],
      "metadata": {
        "id": "D5mfk5EjWvfP",
        "colab": {
          "base_uri": "https://localhost:8080/"
        },
        "outputId": "2859e25f-5cae-4fca-85a7-05b9f1aeb4b0"
      },
      "execution_count": 52,
      "outputs": [
        {
          "output_type": "execute_result",
          "data": {
            "text/plain": [
              "RandomForestClassifier(max_depth=5, min_samples_leaf=20, n_estimators=300,\n",
              "                       random_state=73)"
            ]
          },
          "metadata": {},
          "execution_count": 52
        }
      ]
    },
    {
      "cell_type": "code",
      "source": [
        "from sklearn.metrics import classification_report\n",
        "dt_best = grid_search.best_estimator_\n",
        "print(classification_report(Y_test, dt_best.predict(X_test)))\n"
      ],
      "metadata": {
        "id": "1_nFDiqsHdzx",
        "colab": {
          "base_uri": "https://localhost:8080/"
        },
        "outputId": "5a04d7ab-63aa-4aa6-9ec7-9d1cbb22ad5a"
      },
      "execution_count": 53,
      "outputs": [
        {
          "output_type": "stream",
          "name": "stdout",
          "text": [
            "              precision    recall  f1-score   support\n",
            "\n",
            "           0       0.73      0.66      0.69      2646\n",
            "           1       0.83      0.98      0.90      2619\n",
            "           2       0.82      0.75      0.78      2680\n",
            "\n",
            "    accuracy                           0.80      7945\n",
            "   macro avg       0.79      0.80      0.79      7945\n",
            "weighted avg       0.79      0.80      0.79      7945\n",
            "\n"
          ]
        }
      ]
    },
    {
      "cell_type": "markdown",
      "source": [
        "#Overfitting (random forest)"
      ],
      "metadata": {
        "id": "Y1vTLiY5hpsQ"
      }
    },
    {
      "cell_type": "code",
      "source": [
        "from matplotlib import pyplot\n",
        "from sklearn.metrics import accuracy_score\n",
        "\n",
        "#reference: https://machinelearningmastery.com/overfitting-machine-learning-models/\n",
        "\n",
        "values = [i for i in range(1, 21)]\n",
        "train_scores, test_scores = list(), list()\n",
        "\n",
        "for i in values:\n",
        "  model = RandomForestClassifier(max_depth=i)\n",
        "  model.fit(X_train, Y_train)\n",
        "\n",
        "  train_Yhat = model.predict(X_train)\n",
        "  train_acc = accuracy_score(Y_train, train_Yhat)\n",
        "  train_scores.append(train_acc)\n",
        "\n",
        "  test_Yhat = model.predict(X_test)\n",
        "  test_acc = accuracy_score(Y_test, test_Yhat)\n",
        "  test_scores.append(test_acc)\n",
        "\n",
        "pyplot.plot(values, train_scores, '-o', label='Train')\n",
        "pyplot.plot(values, test_scores, '-o', label='Test')\n",
        "pyplot.legend()\n",
        "pyplot.show()"
      ],
      "metadata": {
        "id": "yRJi9_Gqht6R",
        "colab": {
          "base_uri": "https://localhost:8080/",
          "height": 265
        },
        "outputId": "c189b693-6163-4ae4-ebbc-fb7bdf6a809d"
      },
      "execution_count": 54,
      "outputs": [
        {
          "output_type": "display_data",
          "data": {
            "text/plain": [
              "<Figure size 432x288 with 1 Axes>"
            ],
            "image/png": "[encoded data removed]"
          },
          "metadata": {
            "needs_background": "light"
          }
        }
      ]
    },
    {
      "cell_type": "markdown",
      "source": [
        "#Prediction on the test set (random forest)"
      ],
      "metadata": {
        "id": "phOjCnt59sUf"
      }
    },
    {
      "cell_type": "code",
      "source": [
        "from sklearn.datasets import make_classification\n",
        "\n",
        "y_preds = classifier.predict(cases_data)"
      ],
      "metadata": {
        "id": "eJZYAj-q91wU"
      },
      "execution_count": 55,
      "outputs": []
    },
    {
      "cell_type": "code",
      "source": [
        "import csv\n",
        "\n",
        "def create_submission_file(y_preds, file_name):\n",
        "  with open(f'./drive/My Drive/CMPT459/{file_name}', 'w') as csvfile:\n",
        "    wr = csv.writer(csvfile, quoting=csv.QUOTE_ALL)\n",
        "    wr.writerow([\"Id\", \"Prediction\"])\n",
        "    for i, pred in enumerate(y_preds):\n",
        "      wr.writerow([str(i), str(pred)])\n",
        "\n",
        "create_submission_file(y_preds, 'submission_randomforest.csv')\n",
        "\n",
        "\n",
        "\n",
        "\n"
      ],
      "metadata": {
        "id": "-_G5SyBh-ue0"
      },
      "execution_count": 56,
      "outputs": []
    },
    {
      "cell_type": "markdown",
      "source": [
        "#1.4 Building models and hyperparameter tuning (decision trees)"
      ],
      "metadata": {
        "id": "TsLLC8e398r0"
      }
    },
    {
      "cell_type": "markdown",
      "source": [
        "Decision Trees:"
      ],
      "metadata": {
        "id": "U-N9G9wi7XNl"
      }
    },
    {
      "cell_type": "code",
      "source": [
        "from sklearn.tree import DecisionTreeClassifier\n",
        "\n",
        "from sklearn.model_selection import train_test_split \n",
        "\n",
        "from sklearn import metrics\n",
        "\n",
        "#reference: https://www.datacamp.com/community/tutorials/decision-tree-classification-python\n",
        "\n",
        "#columns = train_data_oversample[['age', 'sex', 'country', 'chronic_disease_binary', 'Confirmed', 'Deaths', 'Recovered', 'Active', 'Incident_Rate', 'Case_Fatality_Ratio']]\n",
        "columns = train_data_oversample[['age', 'sex', 'country', 'chronic_disease_binary', 'Confirmed', 'Deaths', 'Recovered', 'Active', 'Incident_Rate', 'Case_Fatality_Ratio']]\n",
        "\n",
        "mylabel = train_data_oversample['outcome_group']\n",
        "\n",
        "myX_train, myX_test, myy_train, myy_test = train_test_split(columns, mylabel, test_size=0.2, random_state=1) "
      ],
      "metadata": {
        "id": "_g1TtxkQ7ORY"
      },
      "execution_count": 57,
      "outputs": []
    },
    {
      "cell_type": "code",
      "source": [
        "# Create Decision Tree classifer object\n",
        "clf = DecisionTreeClassifier()\n",
        "\n",
        "# Train Decision Tree Classifer\n",
        "clf = clf.fit(myX_train,myy_train)\n",
        "\n",
        "#Predict the response for test dataset\n",
        "y_pred = clf.predict(myX_test)"
      ],
      "metadata": {
        "id": "PoTtp7sa7Qut"
      },
      "execution_count": 58,
      "outputs": []
    },
    {
      "cell_type": "code",
      "source": [
        "print(\"Accuracy:\",metrics.accuracy_score(myy_test, y_pred))"
      ],
      "metadata": {
        "id": "Ep6EUaJk7Q-O",
        "colab": {
          "base_uri": "https://localhost:8080/"
        },
        "outputId": "f1ac41cb-b0e5-4195-9283-70bb7f13ba56"
      },
      "execution_count": 59,
      "outputs": [
        {
          "output_type": "stream",
          "name": "stdout",
          "text": [
            "Accuracy: 0.8152297042164883\n"
          ]
        }
      ]
    },
    {
      "cell_type": "markdown",
      "source": [
        "K-Fold Cross-Validation: (decision trees)"
      ],
      "metadata": {
        "id": "YBnkUPpC7Tru"
      }
    },
    {
      "cell_type": "code",
      "source": [
        "from sklearn.model_selection import GridSearchCV\n",
        "#'max_depth': [5, 10, 20],'min_samples_leaf': [20, 50, 100],\n",
        "params = {\n",
        "    'max_depth': [5, 10, 20],\n",
        "    'min_samples_leaf': [20, 50],\n",
        "    'criterion': [\"gini\"]\n",
        "}\n",
        "\n",
        "grid_search = GridSearchCV(estimator=clf, \n",
        "                           param_grid=params, \n",
        "                           cv=4, n_jobs=-1, verbose=1, scoring = \"f1\")\n",
        "%time\n",
        "grid_search.fit(myX_train, myy_train)"
      ],
      "metadata": {
        "id": "K1GzZD8VBuS2",
        "colab": {
          "base_uri": "https://localhost:8080/"
        },
        "outputId": "3f4e6b2b-7674-4536-e7ca-cd9ed3bab671"
      },
      "execution_count": 60,
      "outputs": [
        {
          "output_type": "stream",
          "name": "stdout",
          "text": [
            "CPU times: user 3 µs, sys: 0 ns, total: 3 µs\n",
            "Wall time: 6.2 µs\n",
            "Fitting 4 folds for each of 6 candidates, totalling 24 fits\n"
          ]
        },
        {
          "output_type": "execute_result",
          "data": {
            "text/plain": [
              "GridSearchCV(cv=4, estimator=DecisionTreeClassifier(), n_jobs=-1,\n",
              "             param_grid={'criterion': ['gini'], 'max_depth': [5, 10, 20],\n",
              "                         'min_samples_leaf': [20, 50]},\n",
              "             scoring='f1', verbose=1)"
            ]
          },
          "metadata": {},
          "execution_count": 60
        }
      ]
    },
    {
      "cell_type": "code",
      "source": [
        "grid_search.best_estimator_"
      ],
      "metadata": {
        "id": "8q2qJ2KPK3fU",
        "colab": {
          "base_uri": "https://localhost:8080/"
        },
        "outputId": "a082abaf-4d9f-40a9-e5a2-2e2a95dea149"
      },
      "execution_count": 61,
      "outputs": [
        {
          "output_type": "execute_result",
          "data": {
            "text/plain": [
              "DecisionTreeClassifier(max_depth=5, min_samples_leaf=20)"
            ]
          },
          "metadata": {},
          "execution_count": 61
        }
      ]
    },
    {
      "cell_type": "code",
      "source": [
        "from sklearn.metrics import classification_report\n",
        "dt_best = grid_search.best_estimator_\n",
        "print(classification_report(myy_test, dt_best.predict(myX_test)))\n",
        "#evaluate_model(dt_best)"
      ],
      "metadata": {
        "id": "3OjHUl5NLEIA",
        "colab": {
          "base_uri": "https://localhost:8080/"
        },
        "outputId": "75460f82-897c-49b7-864c-5c4027fd2b9f"
      },
      "execution_count": 62,
      "outputs": [
        {
          "output_type": "stream",
          "name": "stdout",
          "text": [
            "              precision    recall  f1-score   support\n",
            "\n",
            "           0       0.70      0.73      0.71      2597\n",
            "           1       0.87      0.92      0.89      2674\n",
            "           2       0.82      0.74      0.78      2674\n",
            "\n",
            "    accuracy                           0.80      7945\n",
            "   macro avg       0.80      0.80      0.80      7945\n",
            "weighted avg       0.80      0.80      0.80      7945\n",
            "\n"
          ]
        }
      ]
    },
    {
      "cell_type": "code",
      "source": [
        "from sklearn.model_selection import KFold, cross_val_score\n",
        "from sklearn.metrics import make_scorer, f1_score\n",
        "\n",
        "#reference: https://stackabuse.com/cross-validation-and-grid-search-for-model-selection-in-python/\n",
        "\n",
        "kfold = KFold(n_splits=5, shuffle=True, random_state=73)\n",
        "f1 = make_scorer(f1_score, average='macro')\n",
        "\n",
        "accuracies = cross_val_score(estimator=clf, X=myX_train, y=myy_train, scoring=f1, cv=5)     #k\n",
        "\n",
        "print('mean f1 score:', accuracies.mean())"
      ],
      "metadata": {
        "id": "XClahVG87cvC",
        "colab": {
          "base_uri": "https://localhost:8080/"
        },
        "outputId": "56e46331-bee4-472a-c901-d24e42e53c0f"
      },
      "execution_count": 63,
      "outputs": [
        {
          "output_type": "stream",
          "name": "stdout",
          "text": [
            "mean f1 score: 0.8138319483528182\n"
          ]
        }
      ]
    },
    {
      "cell_type": "markdown",
      "source": [
        "#Overfitting (decision trees)"
      ],
      "metadata": {
        "id": "AdJ6Fx_29Ur6"
      }
    },
    {
      "cell_type": "code",
      "source": [
        "from matplotlib import pyplot\n",
        "from sklearn.metrics import accuracy_score\n",
        "\n",
        "#reference: https://machinelearningmastery.com/overfitting-machine-learning-models/\n",
        "\n",
        "values = [i for i in range(1, 21)]\n",
        "train_scores, test_scores = list(), list()\n",
        "\n",
        "for i in values:\n",
        "  model = DecisionTreeClassifier(max_depth=i)\n",
        "  model.fit(myX_train, myy_train)\n",
        "\n",
        "  train_Yhat = model.predict(myX_train)\n",
        "  train_acc = accuracy_score(myy_train, train_Yhat)\n",
        "  train_scores.append(train_acc)\n",
        "\n",
        "  test_Yhat = model.predict(myX_test)\n",
        "  test_acc = accuracy_score(myy_test, test_Yhat)\n",
        "  test_scores.append(test_acc)\n",
        "\n",
        "pyplot.plot(values, train_scores, '-o', label='Train')\n",
        "pyplot.plot(values, test_scores, '-o', label='Test')\n",
        "pyplot.legend()\n",
        "pyplot.show()"
      ],
      "metadata": {
        "id": "h6rb-RK4XFkZ",
        "colab": {
          "base_uri": "https://localhost:8080/",
          "height": 265
        },
        "outputId": "16f947ef-925a-48d1-b492-8747a080be2e"
      },
      "execution_count": 64,
      "outputs": [
        {
          "output_type": "display_data",
          "data": {
            "text/plain": [
              "<Figure size 432x288 with 1 Axes>"
            ],
            "image/png": "[encoded data removed]"
          },
          "metadata": {
            "needs_background": "light"
          }
        }
      ]
    },
    {
      "cell_type": "markdown",
      "source": [
        "#Prediction on Test Set (decision trees):"
      ],
      "metadata": {
        "id": "2AWpO7J5IkZq"
      }
    },
    {
      "cell_type": "code",
      "source": [
        "#This code is not used as the random forest scored better.\n",
        "from sklearn.tree import DecisionTreeClassifier\n",
        "\n",
        "columns = train_data_oversample[['age', 'sex', 'country', 'chronic_disease_binary', 'Confirmed', 'Deaths', 'Recovered', 'Active', 'Incident_Rate', 'Case_Fatality_Ratio']]\n",
        "mylabel = train_data_oversample['outcome_group']\n",
        "myX_train, myX_test, myy_train, myy_test = train_test_split(columns, mylabel, test_size=0.2, random_state=1) \n",
        "clf = DecisionTreeClassifier(max_depth=20, min_samples_leaf=20, criterion='gini')\n",
        "clf = clf.fit(myX_train,myy_train)\n",
        "y_pred = clf.predict(cases_data)\n"
      ],
      "metadata": {
        "id": "U0mtqzFZJKdh"
      },
      "execution_count": 65,
      "outputs": []
    },
    {
      "cell_type": "code",
      "source": [
        "#This code is not used as the random forest scored better.\n",
        "def create_submission_file(y_preds, file_name):\n",
        "  with open(f'./drive/My Drive/CMPT459/{file_name}', 'w') as csvfile:\n",
        "    wr = csv.writer(csvfile, quoting=csv.QUOTE_ALL)\n",
        "    wr.writerow([\"Id\", \"Prediction\"])\n",
        "    for i, pred in enumerate(y_preds):\n",
        "      wr.writerow([str(i), str(pred)])\n",
        "\n",
        "create_submission_file(y_pred, 'submission_DecisionTree.csv')\n",
        "\n"
      ],
      "metadata": {
        "id": "81PKaOhVIj_A"
      },
      "execution_count": 66,
      "outputs": []
    }
  ]
}